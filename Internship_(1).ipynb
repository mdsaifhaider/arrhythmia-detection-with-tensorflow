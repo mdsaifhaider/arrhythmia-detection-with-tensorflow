{
  "cells": [
    {
      "cell_type": "markdown",
      "metadata": {
        "id": "view-in-github",
        "colab_type": "text"
      },
      "source": [
        "<a href=\"https://colab.research.google.com/github/mdsaifhaider/arrhythmia-detection-with-tensorflow/blob/main/Internship_(1).ipynb\" target=\"_parent\"><img src=\"https://colab.research.google.com/assets/colab-badge.svg\" alt=\"Open In Colab\"/></a>"
      ]
    },
    {
      "cell_type": "code",
      "execution_count": null,
      "id": "df6ebe46",
      "metadata": {
        "id": "df6ebe46"
      },
      "outputs": [],
      "source": [
        "import numpy as np\n",
        "import os\n",
        "import pywt\n",
        "from scipy import stats\n",
        "import matplotlib.pyplot as plt\n",
        "import pandas as pd\n",
        "from sklearn.utils import resample\n",
        "from sklearn.model_selection import train_test_split\n",
        "from keras.utils.np_utils import to_categorical"
      ]
    },
    {
      "cell_type": "code",
      "source": [
        "from google.colab import drive\n",
        "drive.mount('/content/drive')"
      ],
      "metadata": {
        "colab": {
          "base_uri": "https://localhost:8080/"
        },
        "id": "RZf_hJlYbFdC",
        "outputId": "6373ee1e-542d-42ef-af2b-9065517a6d9d"
      },
      "id": "RZf_hJlYbFdC",
      "execution_count": null,
      "outputs": [
        {
          "output_type": "stream",
          "name": "stdout",
          "text": [
            "Drive already mounted at /content/drive; to attempt to forcibly remount, call drive.mount(\"/content/drive\", force_remount=True).\n"
          ]
        }
      ]
    },
    {
      "cell_type": "code",
      "execution_count": null,
      "id": "fa55187d",
      "metadata": {
        "id": "fa55187d"
      },
      "outputs": [],
      "source": [
        "path=\"/content/drive/MyDrive/mitbih_database\""
      ]
    },
    {
      "cell_type": "code",
      "execution_count": null,
      "id": "4c635a67",
      "metadata": {
        "id": "4c635a67"
      },
      "outputs": [],
      "source": [
        "def denoise(data):\n",
        "    wave = pywt.Wavelet('sym4')\n",
        "    maxlev = pywt.dwt_max_level(len(data), wave.dec_len)\n",
        "    threshold = 0.04 \n",
        "\n",
        "    coeffs = pywt.wavedec(data, 'sym4', level=maxlev)\n",
        "    for i in range(1, len(coeffs)):\n",
        "        coeffs[i] = pywt.threshold(coeffs[i], threshold*max(coeffs[i]))\n",
        "        \n",
        "    datarecorded = pywt.waverec(coeffs, 'sym4')\n",
        "    \n",
        "    return datarecorded"
      ]
    },
    {
      "cell_type": "code",
      "execution_count": null,
      "id": "8647d564",
      "metadata": {
        "id": "8647d564"
      },
      "outputs": [],
      "source": [
        "window_size=180\n",
        "max_counting=10000\n",
        "classes=[\"L\",\"R\",\"V\",\"A\",\"N\"]\n",
        "count_classes=[0]*len(classes)"
      ]
    },
    {
      "cell_type": "code",
      "execution_count": null,
      "id": "f2a74ddb",
      "metadata": {
        "id": "f2a74ddb"
      },
      "outputs": [],
      "source": [
        "filenames=next(os.walk(path))[2]\n",
        "filenames.sort()"
      ]
    },
    {
      "cell_type": "code",
      "execution_count": null,
      "id": "4b70ee91",
      "metadata": {
        "id": "4b70ee91"
      },
      "outputs": [],
      "source": [
        "records=[]\n",
        "annotations=[]"
      ]
    },
    {
      "cell_type": "code",
      "execution_count": null,
      "id": "15cd1aa9",
      "metadata": {
        "id": "15cd1aa9"
      },
      "outputs": [],
      "source": [
        "for iter in filenames:\n",
        "    filename,extension=os.path.splitext(iter)\n",
        "    if extension==\".csv\":\n",
        "        records.append(path+\"/\"+filename+extension)\n",
        "    elif extension==\".txt\":\n",
        "        annotations.append(path+\"/\"+filename+extension)"
      ]
    },
    {
      "cell_type": "code",
      "execution_count": null,
      "id": "ae2543c1",
      "metadata": {
        "colab": {
          "base_uri": "https://localhost:8080/"
        },
        "id": "ae2543c1",
        "outputId": "4f727b32-35fc-4b32-d4dd-558b4c2b06ec"
      },
      "outputs": [
        {
          "output_type": "execute_result",
          "data": {
            "text/plain": [
              "48"
            ]
          },
          "metadata": {},
          "execution_count": 58
        }
      ],
      "source": [
        "len(records)"
      ]
    },
    {
      "cell_type": "code",
      "execution_count": null,
      "id": "31d7767e",
      "metadata": {
        "colab": {
          "base_uri": "https://localhost:8080/"
        },
        "id": "31d7767e",
        "outputId": "d900e8de-8f7e-4d8b-a6af-a2ecaa064eae"
      },
      "outputs": [
        {
          "output_type": "execute_result",
          "data": {
            "text/plain": [
              "48"
            ]
          },
          "metadata": {},
          "execution_count": 59
        }
      ],
      "source": [
        "len(annotations)"
      ]
    },
    {
      "cell_type": "code",
      "execution_count": null,
      "id": "5e4b7cd8",
      "metadata": {
        "colab": {
          "base_uri": "https://localhost:8080/"
        },
        "id": "5e4b7cd8",
        "outputId": "ec9960d4-e391-44e9-bcfb-438b27170e32"
      },
      "outputs": [
        {
          "output_type": "stream",
          "name": "stdout",
          "text": [
            "/content/drive/MyDrive/mitbih_database/100.csv\n",
            "/content/drive/MyDrive/mitbih_database/100annotations.txt\n"
          ]
        }
      ],
      "source": [
        "print(records[0])\n",
        "print(annotations[0])"
      ]
    },
    {
      "cell_type": "code",
      "execution_count": null,
      "id": "c419b994",
      "metadata": {
        "id": "c419b994"
      },
      "outputs": [],
      "source": [
        "signals=[]"
      ]
    },
    {
      "cell_type": "code",
      "execution_count": null,
      "id": "ccf05e85",
      "metadata": {
        "id": "ccf05e85"
      },
      "outputs": [],
      "source": [
        "import csv"
      ]
    },
    {
      "cell_type": "code",
      "execution_count": null,
      "id": "71646e16",
      "metadata": {
        "colab": {
          "base_uri": "https://localhost:8080/"
        },
        "id": "71646e16",
        "outputId": "e4b751cc-6cfe-419f-a812-df8b631b6173"
      },
      "outputs": [
        {
          "output_type": "execute_result",
          "data": {
            "text/plain": [
              "48"
            ]
          },
          "metadata": {},
          "execution_count": 63
        }
      ],
      "source": [
        "len(annotations)"
      ]
    },
    {
      "cell_type": "code",
      "execution_count": null,
      "id": "f52e6505",
      "metadata": {
        "colab": {
          "base_uri": "https://localhost:8080/"
        },
        "id": "f52e6505",
        "outputId": "97751916-dfe5-4386-8fcd-0f81c3221729"
      },
      "outputs": [
        {
          "output_type": "stream",
          "name": "stdout",
          "text": [
            "(100012, 360) (100012,)\n"
          ]
        }
      ],
      "source": [
        "X=[]\n",
        "Y=[]\n",
        "for r in range(0,len(records)):\n",
        "    signals = []\n",
        "\n",
        "    with open(records[r], 'rt') as csvfile:\n",
        "        spamreader = csv.reader(csvfile, delimiter=',', quotechar='|')\n",
        "        row_index = -1\n",
        "        for row in spamreader:\n",
        "            if(row_index >= 0):\n",
        "                signals.insert(row_index, int(row[1]))\n",
        "            row_index += 1\n",
        "            \n",
        "  \n",
        "    signals = denoise(signals)\n",
        "    signals = stats.zscore(signals)\n",
        "  \n",
        "    example_beat_printed = False\n",
        "    with open(annotations[r], 'r') as fileID:\n",
        "        data = fileID.readlines() \n",
        "        beat = []\n",
        "        for d in range(1, len(data)):\n",
        "            splitted = data[d].split(' ')\n",
        "            splitted = filter(None, splitted)\n",
        "            next(splitted)\n",
        "            pos = int(next(splitted))\n",
        "            arrhythmia_type = next(splitted)\n",
        "            if(arrhythmia_type in classes):\n",
        "                arrhythmia_index = classes.index(arrhythmia_type)\n",
        "                count_classes[arrhythmia_index] += 1\n",
        "                if(window_size <= pos and pos < (len(signals) - window_size)):\n",
        "                    beat = signals[pos-window_size:pos+window_size]   \n",
        "                    X.append(beat)\n",
        "                    Y.append(arrhythmia_index)\n",
        "\n",
        "\n",
        "print(np.shape(X), np.shape(Y))\n"
      ]
    },
    {
      "cell_type": "code",
      "execution_count": null,
      "id": "7a674c2c",
      "metadata": {
        "colab": {
          "base_uri": "https://localhost:8080/"
        },
        "id": "7a674c2c",
        "outputId": "4dfb6cf7-5823-4554-adee-cb2f3c4a8af9"
      },
      "outputs": [
        {
          "output_type": "stream",
          "name": "stdout",
          "text": [
            "(100012, 361)\n"
          ]
        }
      ],
      "source": [
        "for i in range(len(X)):\n",
        "        X[i] = np.append(X[i], Y[i])\n",
        "\n",
        "\n",
        "print(np.shape(X))"
      ]
    },
    {
      "cell_type": "code",
      "execution_count": null,
      "id": "6f55c34c",
      "metadata": {
        "colab": {
          "base_uri": "https://localhost:8080/",
          "height": 679
        },
        "id": "6f55c34c",
        "outputId": "7391961f-138e-4993-8581-39b2c6552255"
      },
      "outputs": [
        {
          "output_type": "stream",
          "name": "stdout",
          "text": [
            "4.0    75011\n",
            "0.0     8071\n",
            "1.0     7255\n",
            "2.0     7129\n",
            "3.0     2546\n",
            "Name: 360, dtype: int64\n"
          ]
        },
        {
          "output_type": "display_data",
          "data": {
            "image/png": "[encoded data removed]",
            "text/plain": [
              "<Figure size 1440x720 with 1 Axes>"
            ]
          },
          "metadata": {}
        }
      ],
      "source": [
        "X_train_df = pd.DataFrame(X)\n",
        "per_class = X_train_df[X_train_df.shape[1]-1].value_counts()\n",
        "print(per_class)\n",
        "plt.figure(figsize=(20,10))\n",
        "my_circle=plt.Circle( (0,0), 0.7, color='white')\n",
        "plt.pie(per_class, labels=['N', 'L', 'R', 'A', 'V'], colors=['tab:blue','tab:orange','tab:purple','tab:olive','tab:green'],autopct='%1.1f%%')\n",
        "p=plt.gcf()\n",
        "p.gca().add_artist(my_circle)\n",
        "plt.show()"
      ]
    },
    {
      "cell_type": "code",
      "execution_count": null,
      "id": "da3fac0e",
      "metadata": {
        "id": "da3fac0e"
      },
      "outputs": [],
      "source": [
        "df_1=X_train_df[X_train_df[X_train_df.shape[1]-1]==1]\n",
        "df_2=X_train_df[X_train_df[X_train_df.shape[1]-1]==2]\n",
        "df_3=X_train_df[X_train_df[X_train_df.shape[1]-1]==3]\n",
        "df_4=X_train_df[X_train_df[X_train_df.shape[1]-1]==4]\n",
        "\n",
        "df_0=(X_train_df[X_train_df[X_train_df.shape[1]-1]==0]).sample(n=5000,random_state=42)\n",
        "\n",
        "df_1_upsample=resample(df_1,replace=True,n_samples=5000,random_state=122)\n",
        "df_2_upsample=resample(df_2,replace=True,n_samples=5000,random_state=123)\n",
        "df_3_upsample=resample(df_3,replace=True,n_samples=5000,random_state=124)\n",
        "df_4_upsample=resample(df_4,replace=True,n_samples=5000,random_state=125)\n",
        "\n",
        "\n",
        "X_train_df=pd.concat([df_0,df_1_upsample,df_2_upsample,df_3_upsample,df_4_upsample])"
      ]
    },
    {
      "cell_type": "code",
      "execution_count": null,
      "id": "83af140e",
      "metadata": {
        "colab": {
          "base_uri": "https://localhost:8080/",
          "height": 679
        },
        "id": "83af140e",
        "outputId": "d092a82e-7c52-4bfd-b324-80172157760c"
      },
      "outputs": [
        {
          "output_type": "stream",
          "name": "stdout",
          "text": [
            "4.0    5000\n",
            "3.0    5000\n",
            "2.0    5000\n",
            "1.0    5000\n",
            "0.0    5000\n",
            "Name: 360, dtype: int64\n"
          ]
        },
        {
          "output_type": "display_data",
          "data": {
            "image/png": "[encoded data removed]",
            "text/plain": [
              "<Figure size 1440x720 with 1 Axes>"
            ]
          },
          "metadata": {}
        }
      ],
      "source": [
        "per_class = X_train_df[X_train_df.shape[1]-1].value_counts()\n",
        "print(per_class)\n",
        "plt.figure(figsize=(20,10))\n",
        "my_circle=plt.Circle( (0,0), 0.7, color='white')\n",
        "plt.pie(per_class, labels=['N', 'L', 'R', 'A', 'V'], colors=['tab:blue','tab:orange','tab:purple','tab:olive','tab:green'],autopct='%1.1f%%')\n",
        "p=plt.gcf()\n",
        "p.gca().add_artist(my_circle)\n",
        "plt.show()\n"
      ]
    },
    {
      "cell_type": "code",
      "execution_count": null,
      "id": "454c6175",
      "metadata": {
        "colab": {
          "base_uri": "https://localhost:8080/"
        },
        "id": "454c6175",
        "outputId": "1425ddcd-ff9a-48e6-df3e-186407f1087f"
      },
      "outputs": [
        {
          "output_type": "stream",
          "name": "stdout",
          "text": [
            "X_train :  (20000, 361)\n",
            "X_test  :  (5000, 361)\n"
          ]
        }
      ],
      "source": [
        "train, test = train_test_split(X_train_df, test_size=0.20)\n",
        "\n",
        "print(\"X_train : \", np.shape(train))\n",
        "print(\"X_test  : \", np.shape(test))"
      ]
    },
    {
      "cell_type": "code",
      "execution_count": null,
      "id": "610a91bb",
      "metadata": {
        "colab": {
          "base_uri": "https://localhost:8080/"
        },
        "id": "610a91bb",
        "outputId": "55d85d27-d06b-4a21-d539-170e8b2c9b2c"
      },
      "outputs": [
        {
          "output_type": "stream",
          "name": "stdout",
          "text": [
            "(20000, 5) (5000, 5)\n"
          ]
        }
      ],
      "source": [
        "target_train=train[train.shape[1]-1]\n",
        "target_test=test[test.shape[1]-1]\n",
        "train_y=to_categorical(target_train)\n",
        "test_y=to_categorical(target_test)\n",
        "print(np.shape(train_y), np.shape(test_y))"
      ]
    },
    {
      "cell_type": "code",
      "execution_count": null,
      "id": "3db9784f",
      "metadata": {
        "colab": {
          "base_uri": "https://localhost:8080/"
        },
        "id": "3db9784f",
        "outputId": "ef1fccb5-dbc9-405e-f010-486adb5cf81f"
      },
      "outputs": [
        {
          "output_type": "stream",
          "name": "stdout",
          "text": [
            "(20000, 360, 1) (5000, 360, 1)\n"
          ]
        }
      ],
      "source": [
        "train_x = train.iloc[:,:train.shape[1]-1].values\n",
        "test_x = test.iloc[:,:test.shape[1]-1].values\n",
        "train_x = train_x.reshape(len(train_x), train_x.shape[1],1)\n",
        "test_x = test_x.reshape(len(test_x), test_x.shape[1],1)\n",
        "print(np.shape(train_x), np.shape(test_x))"
      ]
    },
    {
      "cell_type": "code",
      "execution_count": null,
      "id": "a1fac413",
      "metadata": {
        "id": "a1fac413"
      },
      "outputs": [],
      "source": [
        "import tensorflow as tf"
      ]
    },
    {
      "cell_type": "code",
      "execution_count": null,
      "id": "468afcd6",
      "metadata": {
        "id": "468afcd6"
      },
      "outputs": [],
      "source": [
        "\n",
        "model=tf.keras.models.Sequential([\n",
        "    tf.keras.layers.Conv1D(filters=16, kernel_size=13, padding='same', activation='relu',input_shape=(360, 1)),\n",
        "    tf.keras.layers.AvgPool1D(pool_size=3, strides=2),\n",
        "    tf.keras.layers.Conv1D(filters=32, kernel_size=15, padding='same', activation='relu'),\n",
        "    tf.keras.layers.AvgPool1D(pool_size=3, strides=2),\n",
        "    tf.keras.layers.Conv1D(filters=64, kernel_size=17, padding='same', activation='relu'),\n",
        "    tf.keras.layers.AvgPool1D(pool_size=3, strides=2),\n",
        "    tf.keras.layers.Conv1D(filters=128, kernel_size=19, padding='same', activation='relu'),\n",
        "    tf.keras.layers.AvgPool1D(pool_size=3, strides=2),\n",
        "    tf.keras.layers.Flatten(),\n",
        "    tf.keras.layers.Dense(35,kernel_regularizer=tf.keras.regularizers.l2(0.0001), bias_regularizer=tf.keras.regularizers.l2(0.0001)),\n",
        "    tf.keras.layers.Dense(5,kernel_regularizer=tf.keras.regularizers.l2(0.0001), bias_regularizer=tf.keras.regularizers.l2(0.0001),activation=\"softmax\")\n",
        "\n",
        "])\n"
      ]
    },
    {
      "cell_type": "code",
      "execution_count": null,
      "id": "099e4b4a",
      "metadata": {
        "id": "099e4b4a"
      },
      "outputs": [],
      "source": [
        "model.compile(optimizer=\"adam\",loss=\"categorical_crossentropy\",metrics=[\"accuracy\"])"
      ]
    },
    {
      "cell_type": "code",
      "execution_count": null,
      "id": "461f22bf",
      "metadata": {
        "colab": {
          "base_uri": "https://localhost:8080/"
        },
        "id": "461f22bf",
        "outputId": "0eda2903-2174-42d9-ad03-d77b1489c6b0"
      },
      "outputs": [
        {
          "output_type": "execute_result",
          "data": {
            "text/plain": [
              "(20000, 360, 1)"
            ]
          },
          "metadata": {},
          "execution_count": 85
        }
      ],
      "source": [
        "train_x.shape"
      ]
    },
    {
      "cell_type": "code",
      "execution_count": null,
      "id": "519ca4af",
      "metadata": {
        "colab": {
          "base_uri": "https://localhost:8080/"
        },
        "id": "519ca4af",
        "outputId": "fa082636-b0cc-46a7-fc43-c6ecba62be5d"
      },
      "outputs": [
        {
          "output_type": "execute_result",
          "data": {
            "text/plain": [
              "(20000, 5)"
            ]
          },
          "metadata": {},
          "execution_count": 86
        }
      ],
      "source": [
        "train_y.shape"
      ]
    },
    {
      "cell_type": "code",
      "source": [
        "history=model.fit(train_x,\n",
        "                  train_y,\n",
        "                  batch_size=40,\n",
        "                  validation_data=(test_x,test_y),\n",
        "                  epochs=100)"
      ],
      "metadata": {
        "colab": {
          "base_uri": "https://localhost:8080/"
        },
        "id": "ZLVPa6a2wVdb",
        "outputId": "4b74b208-333f-40c8-a20e-50f7a3db2b36"
      },
      "id": "ZLVPa6a2wVdb",
      "execution_count": null,
      "outputs": [
        {
          "output_type": "stream",
          "name": "stdout",
          "text": [
            "Epoch 1/100\n",
            "500/500 [==============================] - 8s 14ms/step - loss: 0.2934 - accuracy: 0.9036 - val_loss: 0.1514 - val_accuracy: 0.9556\n",
            "Epoch 2/100\n",
            "500/500 [==============================] - 7s 13ms/step - loss: 0.1213 - accuracy: 0.9641 - val_loss: 0.1327 - val_accuracy: 0.9624\n",
            "Epoch 3/100\n",
            "500/500 [==============================] - 6s 13ms/step - loss: 0.0928 - accuracy: 0.9742 - val_loss: 0.1054 - val_accuracy: 0.9724\n",
            "Epoch 4/100\n",
            "500/500 [==============================] - 6s 13ms/step - loss: 0.0730 - accuracy: 0.9797 - val_loss: 0.0866 - val_accuracy: 0.9776\n",
            "Epoch 5/100\n",
            "500/500 [==============================] - 6s 13ms/step - loss: 0.0629 - accuracy: 0.9834 - val_loss: 0.0891 - val_accuracy: 0.9786\n",
            "Epoch 6/100\n",
            "500/500 [==============================] - 7s 13ms/step - loss: 0.0554 - accuracy: 0.9859 - val_loss: 0.0894 - val_accuracy: 0.9794\n",
            "Epoch 7/100\n",
            "500/500 [==============================] - 6s 13ms/step - loss: 0.0482 - accuracy: 0.9890 - val_loss: 0.1197 - val_accuracy: 0.9752\n",
            "Epoch 8/100\n",
            "500/500 [==============================] - 7s 13ms/step - loss: 0.0428 - accuracy: 0.9903 - val_loss: 0.0915 - val_accuracy: 0.9788\n",
            "Epoch 9/100\n",
            "500/500 [==============================] - 6s 13ms/step - loss: 0.0407 - accuracy: 0.9912 - val_loss: 0.0687 - val_accuracy: 0.9858\n",
            "Epoch 10/100\n",
            "500/500 [==============================] - 7s 13ms/step - loss: 0.0412 - accuracy: 0.9905 - val_loss: 0.0790 - val_accuracy: 0.9814\n",
            "Epoch 11/100\n",
            "500/500 [==============================] - 8s 16ms/step - loss: 0.0398 - accuracy: 0.9914 - val_loss: 0.0794 - val_accuracy: 0.9842\n",
            "Epoch 12/100\n",
            "500/500 [==============================] - 7s 13ms/step - loss: 0.0307 - accuracy: 0.9942 - val_loss: 0.0697 - val_accuracy: 0.9866\n",
            "Epoch 13/100\n",
            "500/500 [==============================] - 6s 13ms/step - loss: 0.0308 - accuracy: 0.9934 - val_loss: 0.0900 - val_accuracy: 0.9822\n",
            "Epoch 14/100\n",
            "500/500 [==============================] - 7s 13ms/step - loss: 0.0276 - accuracy: 0.9947 - val_loss: 0.0946 - val_accuracy: 0.9830\n",
            "Epoch 15/100\n",
            "500/500 [==============================] - 7s 13ms/step - loss: 0.0337 - accuracy: 0.9927 - val_loss: 0.0775 - val_accuracy: 0.9842\n",
            "Epoch 16/100\n",
            "500/500 [==============================] - 6s 13ms/step - loss: 0.0239 - accuracy: 0.9966 - val_loss: 0.1363 - val_accuracy: 0.9720\n",
            "Epoch 17/100\n",
            "500/500 [==============================] - 7s 13ms/step - loss: 0.0253 - accuracy: 0.9961 - val_loss: 0.0877 - val_accuracy: 0.9832\n",
            "Epoch 18/100\n",
            "500/500 [==============================] - 6s 13ms/step - loss: 0.0167 - accuracy: 0.9977 - val_loss: 0.0706 - val_accuracy: 0.9898\n",
            "Epoch 19/100\n",
            "500/500 [==============================] - 7s 13ms/step - loss: 0.0297 - accuracy: 0.9936 - val_loss: 0.0731 - val_accuracy: 0.9876\n",
            "Epoch 20/100\n",
            "500/500 [==============================] - 7s 13ms/step - loss: 0.0230 - accuracy: 0.9955 - val_loss: 0.0658 - val_accuracy: 0.9894\n",
            "Epoch 21/100\n",
            "500/500 [==============================] - 7s 13ms/step - loss: 0.0258 - accuracy: 0.9950 - val_loss: 0.0914 - val_accuracy: 0.9860\n",
            "Epoch 22/100\n",
            "500/500 [==============================] - 6s 13ms/step - loss: 0.0234 - accuracy: 0.9953 - val_loss: 0.0794 - val_accuracy: 0.9874\n",
            "Epoch 23/100\n",
            "500/500 [==============================] - 6s 13ms/step - loss: 0.0177 - accuracy: 0.9978 - val_loss: 0.0683 - val_accuracy: 0.9906\n",
            "Epoch 24/100\n",
            "500/500 [==============================] - 7s 13ms/step - loss: 0.0125 - accuracy: 0.9989 - val_loss: 0.1023 - val_accuracy: 0.9840\n",
            "Epoch 25/100\n",
            "500/500 [==============================] - 6s 13ms/step - loss: 0.0271 - accuracy: 0.9946 - val_loss: 0.0847 - val_accuracy: 0.9862\n",
            "Epoch 26/100\n",
            "500/500 [==============================] - 7s 13ms/step - loss: 0.0195 - accuracy: 0.9966 - val_loss: 0.0995 - val_accuracy: 0.9862\n",
            "Epoch 27/100\n",
            "500/500 [==============================] - 6s 13ms/step - loss: 0.0197 - accuracy: 0.9965 - val_loss: 0.0950 - val_accuracy: 0.9870\n",
            "Epoch 28/100\n",
            "500/500 [==============================] - 6s 13ms/step - loss: 0.0168 - accuracy: 0.9979 - val_loss: 0.1093 - val_accuracy: 0.9796\n",
            "Epoch 29/100\n",
            "500/500 [==============================] - 7s 13ms/step - loss: 0.0158 - accuracy: 0.9977 - val_loss: 0.0732 - val_accuracy: 0.9894\n",
            "Epoch 30/100\n",
            "500/500 [==============================] - 6s 13ms/step - loss: 0.0157 - accuracy: 0.9972 - val_loss: 0.1143 - val_accuracy: 0.9858\n",
            "Epoch 31/100\n",
            "500/500 [==============================] - 6s 13ms/step - loss: 0.0230 - accuracy: 0.9956 - val_loss: 0.0903 - val_accuracy: 0.9860\n",
            "Epoch 32/100\n",
            "500/500 [==============================] - 6s 13ms/step - loss: 0.0137 - accuracy: 0.9980 - val_loss: 0.0988 - val_accuracy: 0.9850\n",
            "Epoch 33/100\n",
            "500/500 [==============================] - 6s 13ms/step - loss: 0.0125 - accuracy: 0.9984 - val_loss: 0.0831 - val_accuracy: 0.9912\n",
            "Epoch 34/100\n",
            "500/500 [==============================] - 7s 13ms/step - loss: 0.0069 - accuracy: 0.9998 - val_loss: 0.0743 - val_accuracy: 0.9906\n",
            "Epoch 35/100\n",
            "500/500 [==============================] - 7s 13ms/step - loss: 0.0092 - accuracy: 0.9987 - val_loss: 0.0755 - val_accuracy: 0.9896\n",
            "Epoch 36/100\n",
            "500/500 [==============================] - 7s 13ms/step - loss: 0.0343 - accuracy: 0.9922 - val_loss: 0.0666 - val_accuracy: 0.9868\n",
            "Epoch 37/100\n",
            "500/500 [==============================] - 6s 13ms/step - loss: 0.0134 - accuracy: 0.9986 - val_loss: 0.0807 - val_accuracy: 0.9884\n",
            "Epoch 38/100\n",
            "500/500 [==============================] - 7s 13ms/step - loss: 0.0133 - accuracy: 0.9983 - val_loss: 0.0622 - val_accuracy: 0.9902\n",
            "Epoch 39/100\n",
            "500/500 [==============================] - 7s 13ms/step - loss: 0.0090 - accuracy: 0.9991 - val_loss: 0.0840 - val_accuracy: 0.9902\n",
            "Epoch 40/100\n",
            "500/500 [==============================] - 7s 13ms/step - loss: 0.0084 - accuracy: 0.9996 - val_loss: 0.0700 - val_accuracy: 0.9914\n",
            "Epoch 41/100\n",
            "500/500 [==============================] - 6s 13ms/step - loss: 0.0174 - accuracy: 0.9969 - val_loss: 0.0899 - val_accuracy: 0.9858\n",
            "Epoch 42/100\n",
            "500/500 [==============================] - 7s 13ms/step - loss: 0.0234 - accuracy: 0.9961 - val_loss: 0.0804 - val_accuracy: 0.9872\n",
            "Epoch 43/100\n",
            "500/500 [==============================] - 6s 13ms/step - loss: 0.0132 - accuracy: 0.9986 - val_loss: 0.0626 - val_accuracy: 0.9906\n",
            "Epoch 44/100\n",
            "500/500 [==============================] - 7s 13ms/step - loss: 0.0061 - accuracy: 0.9999 - val_loss: 0.0718 - val_accuracy: 0.9910\n",
            "Epoch 45/100\n",
            "500/500 [==============================] - 7s 13ms/step - loss: 0.0049 - accuracy: 0.9999 - val_loss: 0.0714 - val_accuracy: 0.9914\n",
            "Epoch 46/100\n",
            "500/500 [==============================] - 7s 13ms/step - loss: 0.0049 - accuracy: 0.9998 - val_loss: 0.0662 - val_accuracy: 0.9902\n",
            "Epoch 47/100\n",
            "500/500 [==============================] - 7s 13ms/step - loss: 0.0188 - accuracy: 0.9964 - val_loss: 0.0827 - val_accuracy: 0.9876\n",
            "Epoch 48/100\n",
            "500/500 [==============================] - 6s 13ms/step - loss: 0.0089 - accuracy: 0.9989 - val_loss: 0.0758 - val_accuracy: 0.9882\n",
            "Epoch 49/100\n",
            "500/500 [==============================] - 7s 13ms/step - loss: 0.0073 - accuracy: 0.9990 - val_loss: 0.0993 - val_accuracy: 0.9858\n",
            "Epoch 50/100\n",
            "500/500 [==============================] - 6s 13ms/step - loss: 0.0271 - accuracy: 0.9942 - val_loss: 0.0892 - val_accuracy: 0.9866\n",
            "Epoch 51/100\n",
            "500/500 [==============================] - 7s 13ms/step - loss: 0.0133 - accuracy: 0.9978 - val_loss: 0.0801 - val_accuracy: 0.9908\n",
            "Epoch 52/100\n",
            "500/500 [==============================] - 7s 13ms/step - loss: 0.0063 - accuracy: 0.9998 - val_loss: 0.0711 - val_accuracy: 0.9912\n",
            "Epoch 53/100\n",
            "500/500 [==============================] - 6s 13ms/step - loss: 0.0046 - accuracy: 1.0000 - val_loss: 0.0676 - val_accuracy: 0.9910\n",
            "Epoch 54/100\n",
            "500/500 [==============================] - 7s 13ms/step - loss: 0.0039 - accuracy: 1.0000 - val_loss: 0.0662 - val_accuracy: 0.9908\n",
            "Epoch 55/100\n",
            "500/500 [==============================] - 7s 13ms/step - loss: 0.0032 - accuracy: 1.0000 - val_loss: 0.0649 - val_accuracy: 0.9912\n",
            "Epoch 56/100\n",
            "500/500 [==============================] - 7s 13ms/step - loss: 0.0027 - accuracy: 1.0000 - val_loss: 0.0630 - val_accuracy: 0.9908\n",
            "Epoch 57/100\n",
            "500/500 [==============================] - 7s 13ms/step - loss: 0.0022 - accuracy: 1.0000 - val_loss: 0.0626 - val_accuracy: 0.9912\n",
            "Epoch 58/100\n",
            "500/500 [==============================] - 7s 13ms/step - loss: 0.0018 - accuracy: 1.0000 - val_loss: 0.0613 - val_accuracy: 0.9904\n",
            "Epoch 59/100\n",
            "500/500 [==============================] - 6s 13ms/step - loss: 0.0111 - accuracy: 0.9973 - val_loss: 0.1398 - val_accuracy: 0.9686\n",
            "Epoch 60/100\n",
            "500/500 [==============================] - 7s 13ms/step - loss: 0.0373 - accuracy: 0.9904 - val_loss: 0.0805 - val_accuracy: 0.9858\n",
            "Epoch 61/100\n",
            "500/500 [==============================] - 7s 13ms/step - loss: 0.0105 - accuracy: 0.9987 - val_loss: 0.0588 - val_accuracy: 0.9910\n",
            "Epoch 62/100\n",
            "500/500 [==============================] - 7s 13ms/step - loss: 0.0060 - accuracy: 0.9998 - val_loss: 0.0604 - val_accuracy: 0.9894\n",
            "Epoch 63/100\n",
            "500/500 [==============================] - 7s 13ms/step - loss: 0.0077 - accuracy: 0.9990 - val_loss: 0.0636 - val_accuracy: 0.9904\n",
            "Epoch 64/100\n",
            "500/500 [==============================] - 6s 13ms/step - loss: 0.0062 - accuracy: 0.9994 - val_loss: 0.0827 - val_accuracy: 0.9878\n",
            "Epoch 65/100\n",
            "500/500 [==============================] - 7s 13ms/step - loss: 0.0092 - accuracy: 0.9986 - val_loss: 0.0804 - val_accuracy: 0.9874\n",
            "Epoch 66/100\n",
            "500/500 [==============================] - 7s 13ms/step - loss: 0.0118 - accuracy: 0.9982 - val_loss: 0.0921 - val_accuracy: 0.9876\n",
            "Epoch 67/100\n",
            "500/500 [==============================] - 7s 13ms/step - loss: 0.0053 - accuracy: 0.9995 - val_loss: 0.0846 - val_accuracy: 0.9892\n",
            "Epoch 68/100\n",
            "500/500 [==============================] - 7s 13ms/step - loss: 0.0164 - accuracy: 0.9966 - val_loss: 0.0729 - val_accuracy: 0.9874\n",
            "Epoch 69/100\n",
            "500/500 [==============================] - 7s 13ms/step - loss: 0.0118 - accuracy: 0.9981 - val_loss: 0.0654 - val_accuracy: 0.9902\n",
            "Epoch 70/100\n",
            "500/500 [==============================] - 7s 13ms/step - loss: 0.0047 - accuracy: 0.9999 - val_loss: 0.0719 - val_accuracy: 0.9912\n",
            "Epoch 71/100\n",
            "500/500 [==============================] - 7s 13ms/step - loss: 0.0035 - accuracy: 1.0000 - val_loss: 0.0683 - val_accuracy: 0.9916\n",
            "Epoch 72/100\n",
            "500/500 [==============================] - 7s 13ms/step - loss: 0.0030 - accuracy: 1.0000 - val_loss: 0.0659 - val_accuracy: 0.9914\n",
            "Epoch 73/100\n",
            "500/500 [==============================] - 7s 13ms/step - loss: 0.0025 - accuracy: 1.0000 - val_loss: 0.0638 - val_accuracy: 0.9910\n",
            "Epoch 74/100\n",
            "500/500 [==============================] - 7s 13ms/step - loss: 0.0021 - accuracy: 1.0000 - val_loss: 0.0622 - val_accuracy: 0.9914\n",
            "Epoch 75/100\n",
            "500/500 [==============================] - 7s 13ms/step - loss: 0.0017 - accuracy: 1.0000 - val_loss: 0.0602 - val_accuracy: 0.9918\n",
            "Epoch 76/100\n",
            "500/500 [==============================] - 7s 13ms/step - loss: 0.0015 - accuracy: 1.0000 - val_loss: 0.0661 - val_accuracy: 0.9908\n",
            "Epoch 77/100\n",
            "500/500 [==============================] - 7s 13ms/step - loss: 0.0284 - accuracy: 0.9933 - val_loss: 0.0635 - val_accuracy: 0.9884\n",
            "Epoch 78/100\n",
            "500/500 [==============================] - 7s 13ms/step - loss: 0.0110 - accuracy: 0.9977 - val_loss: 0.0784 - val_accuracy: 0.9866\n",
            "Epoch 79/100\n",
            "500/500 [==============================] - 6s 13ms/step - loss: 0.0044 - accuracy: 0.9998 - val_loss: 0.0616 - val_accuracy: 0.9924\n",
            "Epoch 80/100\n",
            "500/500 [==============================] - 7s 13ms/step - loss: 0.0031 - accuracy: 1.0000 - val_loss: 0.0609 - val_accuracy: 0.9922\n",
            "Epoch 81/100\n",
            "500/500 [==============================] - 7s 13ms/step - loss: 0.0026 - accuracy: 1.0000 - val_loss: 0.0601 - val_accuracy: 0.9920\n",
            "Epoch 82/100\n",
            "500/500 [==============================] - 7s 13ms/step - loss: 0.0022 - accuracy: 1.0000 - val_loss: 0.0592 - val_accuracy: 0.9924\n",
            "Epoch 83/100\n",
            "500/500 [==============================] - 7s 13ms/step - loss: 0.0018 - accuracy: 1.0000 - val_loss: 0.0581 - val_accuracy: 0.9922\n",
            "Epoch 84/100\n",
            "500/500 [==============================] - 7s 13ms/step - loss: 0.0015 - accuracy: 1.0000 - val_loss: 0.0583 - val_accuracy: 0.9922\n",
            "Epoch 85/100\n",
            "500/500 [==============================] - 7s 13ms/step - loss: 0.0013 - accuracy: 1.0000 - val_loss: 0.0590 - val_accuracy: 0.9918\n",
            "Epoch 86/100\n",
            "500/500 [==============================] - 7s 13ms/step - loss: 0.0367 - accuracy: 0.9918 - val_loss: 0.0651 - val_accuracy: 0.9864\n",
            "Epoch 87/100\n",
            "500/500 [==============================] - 7s 13ms/step - loss: 0.0079 - accuracy: 0.9987 - val_loss: 0.0664 - val_accuracy: 0.9928\n",
            "Epoch 88/100\n",
            "500/500 [==============================] - 7s 13ms/step - loss: 0.0090 - accuracy: 0.9983 - val_loss: 0.0616 - val_accuracy: 0.9926\n",
            "Epoch 89/100\n",
            "500/500 [==============================] - 7s 13ms/step - loss: 0.0039 - accuracy: 0.9999 - val_loss: 0.0614 - val_accuracy: 0.9908\n",
            "Epoch 90/100\n",
            "500/500 [==============================] - 7s 13ms/step - loss: 0.0027 - accuracy: 1.0000 - val_loss: 0.0620 - val_accuracy: 0.9910\n",
            "Epoch 91/100\n",
            "500/500 [==============================] - 7s 13ms/step - loss: 0.0022 - accuracy: 1.0000 - val_loss: 0.0614 - val_accuracy: 0.9918\n",
            "Epoch 92/100\n",
            "500/500 [==============================] - 7s 13ms/step - loss: 0.0019 - accuracy: 1.0000 - val_loss: 0.0607 - val_accuracy: 0.9916\n",
            "Epoch 93/100\n",
            "500/500 [==============================] - 7s 13ms/step - loss: 0.0016 - accuracy: 1.0000 - val_loss: 0.0597 - val_accuracy: 0.9918\n",
            "Epoch 94/100\n",
            "500/500 [==============================] - 7s 13ms/step - loss: 0.0014 - accuracy: 1.0000 - val_loss: 0.0592 - val_accuracy: 0.9920\n",
            "Epoch 95/100\n",
            "500/500 [==============================] - 7s 13ms/step - loss: 0.0011 - accuracy: 1.0000 - val_loss: 0.0587 - val_accuracy: 0.9922\n",
            "Epoch 96/100\n",
            "500/500 [==============================] - 7s 13ms/step - loss: 9.5311e-04 - accuracy: 1.0000 - val_loss: 0.0583 - val_accuracy: 0.9922\n",
            "Epoch 97/100\n",
            "500/500 [==============================] - 7s 13ms/step - loss: 0.0256 - accuracy: 0.9938 - val_loss: 0.0801 - val_accuracy: 0.9858\n",
            "Epoch 98/100\n",
            "500/500 [==============================] - 7s 13ms/step - loss: 0.0116 - accuracy: 0.9977 - val_loss: 0.0829 - val_accuracy: 0.9884\n",
            "Epoch 99/100\n",
            "500/500 [==============================] - 7s 13ms/step - loss: 0.0055 - accuracy: 0.9994 - val_loss: 0.0659 - val_accuracy: 0.9896\n",
            "Epoch 100/100\n",
            "500/500 [==============================] - 7s 13ms/step - loss: 0.0031 - accuracy: 0.9999 - val_loss: 0.0656 - val_accuracy: 0.9900\n"
          ]
        }
      ]
    },
    {
      "cell_type": "code",
      "source": [
        ""
      ],
      "metadata": {
        "id": "sfXV1kV6wdQp"
      },
      "id": "sfXV1kV6wdQp",
      "execution_count": null,
      "outputs": []
    }
  ],
  "metadata": {
    "kernelspec": {
      "display_name": "Python 3",
      "language": "python",
      "name": "python3"
    },
    "language_info": {
      "codemirror_mode": {
        "name": "ipython",
        "version": 3
      },
      "file_extension": ".py",
      "mimetype": "text/x-python",
      "name": "python",
      "nbconvert_exporter": "python",
      "pygments_lexer": "ipython3",
      "version": "3.8.8"
    },
    "colab": {
      "name": "Internship (1).ipynb",
      "provenance": [],
      "collapsed_sections": [],
      "include_colab_link": true
    },
    "accelerator": "GPU"
  },
  "nbformat": 4,
  "nbformat_minor": 5
}